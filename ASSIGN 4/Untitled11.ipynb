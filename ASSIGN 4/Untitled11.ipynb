{
 "cells": [
  {
   "cell_type": "markdown",
   "id": "2db81a01",
   "metadata": {},
   "source": [
    "#                    ANSWER:1"
   ]
  },
  {
   "cell_type": "markdown",
   "id": "c98ad54a",
   "metadata": {},
   "source": [
    "## *ADDITION"
   ]
  },
  {
   "cell_type": "code",
   "execution_count": 1,
   "id": "170a4d7f",
   "metadata": {},
   "outputs": [
    {
     "name": "stdout",
     "output_type": "stream",
     "text": [
      "enter a number:558\n",
      "enter a number:69\n",
      "enter a number:7\n"
     ]
    },
    {
     "data": {
      "text/plain": [
       "634"
      ]
     },
     "execution_count": 1,
     "metadata": {},
     "output_type": "execute_result"
    }
   ],
   "source": [
    "a = int (input(\"enter a number:\"))\n",
    "b = int(input(\"enter a number:\"))\n",
    "c = int(input(\"enter a number:\"))\n",
    "d = a+b+c\n",
    "d"
   ]
  },
  {
   "cell_type": "markdown",
   "id": "c306e80c",
   "metadata": {},
   "source": [
    "## *SUBTRACTION"
   ]
  },
  {
   "cell_type": "code",
   "execution_count": 2,
   "id": "2eda21d5",
   "metadata": {},
   "outputs": [
    {
     "name": "stdout",
     "output_type": "stream",
     "text": [
      "enter a number:57\n",
      "enter a number:36\n"
     ]
    },
    {
     "data": {
      "text/plain": [
       "21"
      ]
     },
     "execution_count": 2,
     "metadata": {},
     "output_type": "execute_result"
    }
   ],
   "source": [
    "a = int(input(\"enter a number:\"))\n",
    "b = int(input(\"enter a number:\"))\n",
    "c = a-b\n",
    "c"
   ]
  },
  {
   "cell_type": "markdown",
   "id": "1ed13d71",
   "metadata": {},
   "source": [
    "## *MULTIPLICATION"
   ]
  },
  {
   "cell_type": "code",
   "execution_count": 3,
   "id": "d123b08d",
   "metadata": {},
   "outputs": [
    {
     "name": "stdout",
     "output_type": "stream",
     "text": [
      "enter a number:3\n",
      "enter a number:6\n"
     ]
    },
    {
     "data": {
      "text/plain": [
       "18"
      ]
     },
     "execution_count": 3,
     "metadata": {},
     "output_type": "execute_result"
    }
   ],
   "source": [
    "a = int(input(\"enter a number:\"))\n",
    "b = int(input(\"enter a number:\"))\n",
    "c = a*b;\n",
    "c"
   ]
  },
  {
   "cell_type": "markdown",
   "id": "249cfa2c",
   "metadata": {},
   "source": [
    "## *DIVISION"
   ]
  },
  {
   "cell_type": "code",
   "execution_count": 4,
   "id": "5b9f2487",
   "metadata": {},
   "outputs": [
    {
     "name": "stdout",
     "output_type": "stream",
     "text": [
      "enter a number:8\n",
      "enter a number:2\n"
     ]
    },
    {
     "data": {
      "text/plain": [
       "4.0"
      ]
     },
     "execution_count": 4,
     "metadata": {},
     "output_type": "execute_result"
    }
   ],
   "source": [
    "a = int(input(\"enter a number:\"))\n",
    "b = int(input(\"enter a number:\"))\n",
    "c = a/b\n",
    "c"
   ]
  },
  {
   "cell_type": "markdown",
   "id": "42969efb",
   "metadata": {},
   "source": [
    "## *POWER"
   ]
  },
  {
   "cell_type": "code",
   "execution_count": 5,
   "id": "59b73db3",
   "metadata": {},
   "outputs": [
    {
     "name": "stdout",
     "output_type": "stream",
     "text": [
      "enter a number:8\n",
      "enter a number:2\n"
     ]
    },
    {
     "data": {
      "text/plain": [
       "64"
      ]
     },
     "execution_count": 5,
     "metadata": {},
     "output_type": "execute_result"
    }
   ],
   "source": [
    "a = int(input(\"enter a number:\"))\n",
    "b = int(input(\"enter a number:\"))\n",
    "c = a**b\n",
    "c"
   ]
  },
  {
   "cell_type": "markdown",
   "id": "643c6a4e",
   "metadata": {},
   "source": [
    "#                    ANSWER:2"
   ]
  },
  {
   "cell_type": "code",
   "execution_count": 6,
   "id": "59239310",
   "metadata": {},
   "outputs": [
    {
     "name": "stdout",
     "output_type": "stream",
     "text": [
      "4\n"
     ]
    }
   ],
   "source": [
    "list = [\"abc\",\"def\",4,\"ghi\"]\n",
    "for x in list:\n",
    "     if type(x) == int:\n",
    "        print(x)"
   ]
  },
  {
   "cell_type": "markdown",
   "id": "2117f9f8",
   "metadata": {},
   "source": [
    "#                    ANSWER:3"
   ]
  },
  {
   "cell_type": "code",
   "execution_count": 7,
   "id": "18250b8e",
   "metadata": {},
   "outputs": [
    {
     "name": "stdout",
     "output_type": "stream",
     "text": [
      "<class 'dict'>\n",
      "{1: 'LION', 2: 'HORSE', 3: 'BUFFALO', 4: 'MONKEY'}\n"
     ]
    }
   ],
   "source": [
    "c = dict([(1,\"LION\"),(2,\"HORSE\"),(3,\"BUFFALO\")])\n",
    "c[4] = \"MONKEY\"\n",
    "print(type(c));\n",
    "print(c);\n"
   ]
  },
  {
   "cell_type": "markdown",
   "id": "320a0b96",
   "metadata": {},
   "source": [
    "# ANSWER:4"
   ]
  },
  {
   "cell_type": "code",
   "execution_count": 8,
   "id": "bbadc304",
   "metadata": {},
   "outputs": [
    {
     "name": "stdout",
     "output_type": "stream",
     "text": [
      "150\n"
     ]
    }
   ],
   "source": [
    "own_dict ={'black':50,'orange':10,'yellow':90}\n",
    "print(sum(own_dict.values()))"
   ]
  },
  {
   "cell_type": "markdown",
   "id": "b98b5832",
   "metadata": {},
   "source": [
    "# ANSWER:5"
   ]
  },
  {
   "cell_type": "code",
   "execution_count": 9,
   "id": "3a248c0d",
   "metadata": {},
   "outputs": [
    {
     "name": "stdout",
     "output_type": "stream",
     "text": [
      "[2, 4, 8]\n"
     ]
    }
   ],
   "source": [
    "lst1 = [2,4,8,10];\n",
    "lst2 = [1,2,3,4,5,6,7,8];\n",
    "t_lst = []\n",
    "for a in lst1:\n",
    "    for b in lst2:\n",
    "        if (a==b):\n",
    "            t_lst.append(a)\n",
    "print(t_lst)   "
   ]
  },
  {
   "cell_type": "markdown",
   "id": "e3b2977e",
   "metadata": {},
   "source": [
    "# ANSWER:6"
   ]
  },
  {
   "cell_type": "code",
   "execution_count": 10,
   "id": "bae57c92",
   "metadata": {},
   "outputs": [
    {
     "data": {
      "text/plain": [
       "{1: 'LION', 2: 'HORSE', 3: 'ELEPHANT'}"
      ]
     },
     "execution_count": 10,
     "metadata": {},
     "output_type": "execute_result"
    }
   ],
   "source": [
    "c = dict([(1,\"LION\"),(2,\"HORSE\"),(3,\"BUFFALO\")])\n",
    "c[3] = \"ELEPHANT\"\n",
    "c"
   ]
  },
  {
   "cell_type": "code",
   "execution_count": null,
   "id": "30e1fdb8",
   "metadata": {},
   "outputs": [],
   "source": []
  }
 ],
 "metadata": {
  "kernelspec": {
   "display_name": "Python 3",
   "language": "python",
   "name": "python3"
  },
  "language_info": {
   "codemirror_mode": {
    "name": "ipython",
    "version": 3
   },
   "file_extension": ".py",
   "mimetype": "text/x-python",
   "name": "python",
   "nbconvert_exporter": "python",
   "pygments_lexer": "ipython3",
   "version": "3.8.8"
  }
 },
 "nbformat": 4,
 "nbformat_minor": 5
}
